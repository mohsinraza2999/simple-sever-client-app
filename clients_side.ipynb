{
 "cells": [
  {
   "cell_type": "code",
   "execution_count": null,
   "id": "fd7f6b61",
   "metadata": {},
   "outputs": [],
   "source": [
    "import requests"
   ]
  },
  {
   "cell_type": "code",
   "execution_count": null,
   "id": "4c188659",
   "metadata": {},
   "outputs": [],
   "source": [
    "# GET request\n",
    "res = requests.get(\"http://127.0.0.1:8000/\")\n",
    "print(\"GET Response:\", res.json())"
   ]
  },
  {
   "cell_type": "code",
   "execution_count": null,
   "metadata": {},
   "outputs": [],
   "source": [
    "# POST request\n",
    "data = {\"message\": \"othr\"}\n",
    "res = requests.post(\"http://127.0.0.1:8000/send/\", json=data)"
   ]
  },
  {
   "cell_type": "code",
   "execution_count": null,
   "id": "aa25ee3b",
   "metadata": {},
   "outputs": [],
   "source": [
    "#printing response\n",
    "print(\"POST Response:\", res.json()[\"received\"])"
   ]
  }
 ],
 "metadata": {
  "language_info": {
   "name": "python"
  }
 },
 "nbformat": 4,
 "nbformat_minor": 5
}
